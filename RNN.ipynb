{
 "cells": [
  {
   "cell_type": "code",
   "execution_count": 1,
   "metadata": {},
   "outputs": [],
   "source": [
    "import numpy as np\n",
    "import pandas as pd\n",
    "from sklearn.model_selection import train_test_split\n",
    "from sklearn.preprocessing import LabelEncoder\n",
    "from tensorflow import keras\n",
    "from tensorflow.keras.preprocessing.text import Tokenizer\n",
    "from tensorflow.keras.preprocessing.sequence import pad_sequences\n",
    "from tensorflow.keras.models import Sequential\n",
    "from tensorflow.keras.layers import Embedding, SimpleRNN, Dense\n"
   ]
  },
  {
   "cell_type": "code",
   "execution_count": 2,
   "metadata": {},
   "outputs": [],
   "source": [
    "data = pd.read_excel(r'C:\\Users\\user\\Downloads\\Tweets.xlsx')\n",
    "\n",
    "# Preprocess the data\n",
    "tweets = data['Tweet'].values\n",
    "labels = data['Label'].values\n",
    "\n",
    "# Convert labels to numerical values\n",
    "labels = [(label) for label in labels]\n",
    "label_encoder = LabelEncoder()\n",
    "labels = label_encoder.fit_transform(labels)\n",
    "\n",
    "# Split the dataset into training and testing sets\n",
    "tweets_train, tweets_test, labels_train, labels_test = train_test_split(tweets, labels, test_size=0.2, random_state=42)"
   ]
  },
  {
   "cell_type": "code",
   "execution_count": 3,
   "metadata": {},
   "outputs": [],
   "source": [
    "# Tokenize the tweets\n",
    "tokenizer = Tokenizer()\n",
    "tokenizer.fit_on_texts(tweets_train)\n",
    "vocab_size = len(tokenizer.word_index) + 1\n",
    "\n",
    "# Convert text sequences to numerical sequences\n",
    "sequences_train = tokenizer.texts_to_sequences(tweets_train)\n",
    "sequences_test = tokenizer.texts_to_sequences(tweets_test)\n",
    "\n",
    "# Pad the sequences to have the same length\n",
    "max_length = 100  \n",
    "padded_train = pad_sequences(sequences_train, maxlen=max_length, padding='post')\n",
    "padded_test = pad_sequences(sequences_test, maxlen=max_length, padding='post')"
   ]
  },
  {
   "cell_type": "code",
   "execution_count": 4,
   "metadata": {},
   "outputs": [
    {
     "name": "stdout",
     "output_type": "stream",
     "text": [
      "Epoch 1/10\n",
      "292/292 [==============================] - 19s 60ms/step - loss: 0.5875 - accuracy: 0.6873\n",
      "Epoch 2/10\n",
      "292/292 [==============================] - 20s 68ms/step - loss: 0.6357 - accuracy: 0.6464\n",
      "Epoch 3/10\n",
      "292/292 [==============================] - 21s 72ms/step - loss: 0.5218 - accuracy: 0.7472\n",
      "Epoch 4/10\n",
      "292/292 [==============================] - 22s 75ms/step - loss: 0.4651 - accuracy: 0.7958\n",
      "Epoch 5/10\n",
      "292/292 [==============================] - 24s 81ms/step - loss: 0.4752 - accuracy: 0.7898\n",
      "Epoch 6/10\n",
      "292/292 [==============================] - 24s 81ms/step - loss: 0.4803 - accuracy: 0.7821\n",
      "Epoch 7/10\n",
      "292/292 [==============================] - 23s 79ms/step - loss: 0.4722 - accuracy: 0.7887\n",
      "Epoch 8/10\n",
      "292/292 [==============================] - 24s 81ms/step - loss: 0.4739 - accuracy: 0.7806\n",
      "Epoch 9/10\n",
      "292/292 [==============================] - 25s 85ms/step - loss: 0.4713 - accuracy: 0.7804\n",
      "Epoch 10/10\n",
      "292/292 [==============================] - 23s 77ms/step - loss: 0.4729 - accuracy: 0.7892\n",
      "37/37 [==============================] - 2s 31ms/step - loss: 0.5966 - accuracy: 0.7029\n",
      "Accuracy: 0.7029109597206116\n"
     ]
    }
   ],
   "source": [
    "# Create the RNN model\n",
    "model = Sequential()\n",
    "model.add(Embedding(vocab_size, 100, input_length=max_length))\n",
    "model.add(SimpleRNN(128))\n",
    "model.add(Dense(1, activation='sigmoid'))\n",
    "\n",
    "# Compile the model\n",
    "model.compile(loss='binary_crossentropy', optimizer='adam', metrics=['accuracy'])\n",
    "\n",
    "# Train the model\n",
    "model.fit(padded_train, labels_train, epochs=10, batch_size=16)\n",
    "\n",
    "# Evaluate the model\n",
    "_, accuracy = model.evaluate(padded_test, labels_test)\n",
    "print('Accuracy:', accuracy)\n"
   ]
  },
  {
   "cell_type": "code",
   "execution_count": 8,
   "metadata": {},
   "outputs": [
    {
     "name": "stdout",
     "output_type": "stream",
     "text": [
      "37/37 [==============================] - 1s 15ms/step\n"
     ]
    },
    {
     "data": {
      "image/png": "[encoded data removed]",
      "text/plain": [
       "<Figure size 800x600 with 1 Axes>"
      ]
     },
     "metadata": {},
     "output_type": "display_data"
    },
    {
     "name": "stdout",
     "output_type": "stream",
     "text": [
      "Classification Report:\n",
      "              precision    recall  f1-score   support\n",
      "\n",
      "           0       0.61      0.57      0.59       440\n",
      "           1       0.75      0.78      0.77       728\n",
      "\n",
      "    accuracy                           0.70      1168\n",
      "   macro avg       0.68      0.68      0.68      1168\n",
      "weighted avg       0.70      0.70      0.70      1168\n",
      "\n"
     ]
    }
   ],
   "source": [
    "import matplotlib.pyplot as plt\n",
    "import seaborn as sns\n",
    "from sklearn.metrics import confusion_matrix, classification_report\n",
    "# Evaluate the model\n",
    "probabilities = model.predict(padded_test)\n",
    "predictions = (probabilities > 0.5).astype(int)\n",
    "predicted_labels = label_encoder.inverse_transform(predictions.flatten())\n",
    "true_labels = label_encoder.inverse_transform(labels_test)\n",
    "\n",
    "# Create confusion matrix\n",
    "cm = confusion_matrix(true_labels, predicted_labels)\n",
    "\n",
    "# Create classification report\n",
    "report = classification_report(true_labels, predicted_labels, zero_division=1)\n",
    "\n",
    "# Plot confusion matrix\n",
    "plt.figure(figsize=(8, 6))\n",
    "sns.heatmap(cm.T, annot=True, fmt='d', cbar=False)\n",
    "plt.title('Confusion Matrix')\n",
    "plt.xlabel('Predicted Labels')\n",
    "plt.ylabel('True Labels')\n",
    "plt.show()\n",
    "\n",
    "# Print classification report\n",
    "print('Classification Report:')\n",
    "print(report)"
   ]
  }
 ],
 "metadata": {
  "kernelspec": {
   "display_name": "Python 3 (ipykernel)",
   "language": "python",
   "name": "python3"
  },
  "language_info": {
   "codemirror_mode": {
    "name": "ipython",
    "version": 3
   },
   "file_extension": ".py",
   "mimetype": "text/x-python",
   "name": "python",
   "nbconvert_exporter": "python",
   "pygments_lexer": "ipython3",
   "version": "3.10.9"
  }
 },
 "nbformat": 4,
 "nbformat_minor": 4
}
