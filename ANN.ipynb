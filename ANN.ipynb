{
 "cells": [
  {
   "cell_type": "code",
   "execution_count": null,
   "metadata": {
    "id": "-OUi6RSDyLyV"
   },
   "outputs": [],
   "source": [
    "import numpy as np\n",
    "import pandas as pd\n",
    "from sklearn.model_selection import train_test_split\n",
    "from sklearn.preprocessing import LabelEncoder\n",
    "from tensorflow import keras\n",
    "from tensorflow.keras.preprocessing.text import Tokenizer\n",
    "from tensorflow.keras.preprocessing.sequence import pad_sequences\n",
    "from tensorflow.keras.models import Sequential\n",
    "from tensorflow.keras.layers import Embedding, LSTM, Dense"
   ]
  },
  {
   "cell_type": "code",
   "execution_count": 21,
   "metadata": {
    "colab": {
     "base_uri": "https://localhost:8080/",
     "height": 1000
    },
    "id": "bB60FIw3yTxU",
    "outputId": "2c032f18-e884-4074-cd07-fa450c815fe1"
   },
   "outputs": [],
   "source": [
    "data = pd.read_excel(r'C:\\Users\\user\\Downloads\\Tweets.xlsx')\n",
    "\n",
    "import re\n",
    "# removing the pattern\n",
    "def remove_pattern(input_text,pattern):\n",
    "    r= re.findall(pattern, input_text)\n",
    "    for i in r:\n",
    "        input_text = re.sub(i, '', input_text)\n",
    "    return input_text\n",
    "import numpy as np\n",
    "data['tidy_tweet'] = np.vectorize(remove_pattern)(data['Tweet'],\"@[\\w]*\") \n",
    "data['tidy_tweet'] = data['tidy_tweet'].str.replace(\"[^a-zA-Z#]\",\" \")\n",
    "data.head()\n",
    "\n"
   ]
  },
  {
   "cell_type": "code",
   "execution_count": null,
   "metadata": {},
   "outputs": [],
   "source": [
    "#Preprocess the data\n",
    "tweets = data['Tweet'].values\n",
    "labels = data['Label'].values\n",
    "\n",
    "# Convert labels to numerical values\n",
    "labels = [(label) for label in labels]\n",
    "label_encoder = LabelEncoder()\n",
    "labels = label_encoder.fit_transform(labels)\n",
    "\n",
    "# Split the dataset into training and testing sets\n",
    "tweets_train, tweets_test, labels_train, labels_test = train_test_split(tweets, labels, test_size=0.2, random_state=42)\n",
    "\n"
   ]
  },
  {
   "cell_type": "code",
   "execution_count": 22,
   "metadata": {
    "id": "YpdZsEk0yfC7"
   },
   "outputs": [],
   "source": [
    "# Tokenize the tweets\n",
    "tokenizer = Tokenizer()\n",
    "tokenizer.fit_on_texts(tweets_train)\n",
    "vocab_size = len(tokenizer.word_index) + 1\n",
    "\n",
    "# Convert text sequences to numerical sequences\n",
    "sequences_train = tokenizer.texts_to_sequences(tweets_train)\n",
    "sequences_test = tokenizer.texts_to_sequences(tweets_test)\n",
    "\n",
    "# Pad the sequences to have the same length\n",
    "max_length = 100  \n",
    "padded_train = pad_sequences(sequences_train, maxlen=max_length, padding='post')\n",
    "padded_test = pad_sequences(sequences_test, maxlen=max_length, padding='post')"
   ]
  },
  {
   "cell_type": "code",
   "execution_count": 23,
   "metadata": {
    "id": "Iv2WqTLrzXIZ"
   },
   "outputs": [],
   "source": [
    "# Create the ANN model\n",
    "model = Sequential()\n",
    "model.add(Embedding(vocab_size, 100, input_length=max_length))\n",
    "model.add(LSTM(128))\n",
    "model.add(Dense(1, activation='sigmoid'))\n",
    "\n",
    "# Compile the model\n",
    "model.compile(loss='binary_crossentropy', optimizer='adam', metrics=['accuracy'])"
   ]
  },
  {
   "cell_type": "code",
   "execution_count": 24,
   "metadata": {
    "colab": {
     "base_uri": "https://localhost:8080/"
    },
    "id": "DooOvWOb2IMQ",
    "outputId": "36298f18-3cb7-41af-90c9-5fb5c6d2feaf"
   },
   "outputs": [
    {
     "name": "stdout",
     "output_type": "stream",
     "text": [
      "Epoch 1/10\n",
      "292/292 [==============================] - 49s 160ms/step - loss: 0.6539 - accuracy: 0.6445\n",
      "Epoch 2/10\n",
      "292/292 [==============================] - 58s 197ms/step - loss: 0.6520 - accuracy: 0.6453\n",
      "Epoch 3/10\n",
      "292/292 [==============================] - 58s 200ms/step - loss: 0.6512 - accuracy: 0.6453\n",
      "Epoch 4/10\n",
      "292/292 [==============================] - 61s 207ms/step - loss: 0.6510 - accuracy: 0.6453\n",
      "Epoch 5/10\n",
      "292/292 [==============================] - 61s 209ms/step - loss: 0.6507 - accuracy: 0.6453\n",
      "Epoch 6/10\n",
      "292/292 [==============================] - 62s 214ms/step - loss: 0.6510 - accuracy: 0.6453\n",
      "Epoch 7/10\n",
      "292/292 [==============================] - 57s 194ms/step - loss: 0.6509 - accuracy: 0.6453\n",
      "Epoch 8/10\n",
      "292/292 [==============================] - 58s 200ms/step - loss: 0.6510 - accuracy: 0.6453\n",
      "Epoch 9/10\n",
      "292/292 [==============================] - 57s 195ms/step - loss: 0.6506 - accuracy: 0.6453\n",
      "Epoch 10/10\n",
      "292/292 [==============================] - 56s 192ms/step - loss: 0.6509 - accuracy: 0.6453\n",
      "37/37 [==============================] - 3s 63ms/step - loss: 0.6645 - accuracy: 0.6233\n",
      "Accuracy: 0.6232876777648926\n"
     ]
    }
   ],
   "source": [
    "# Train the model\n",
    "model.fit(padded_train, labels_train, epochs=10, batch_size=16)\n",
    "\n",
    "# Evaluate the model\n",
    "_, accuracy = model.evaluate(padded_test, labels_test)\n",
    "print('Accuracy:', accuracy)"
   ]
  },
  {
   "cell_type": "code",
   "execution_count": 29,
   "metadata": {
    "id": "9B-YU_Wa2Wf-"
   },
   "outputs": [
    {
     "name": "stdout",
     "output_type": "stream",
     "text": [
      "37/37 [==============================] - 2s 47ms/step\n"
     ]
    },
    {
     "data": {
      "image/png": "[encoded data removed]",
      "text/plain": [
       "<Figure size 800x600 with 1 Axes>"
      ]
     },
     "metadata": {},
     "output_type": "display_data"
    },
    {
     "name": "stdout",
     "output_type": "stream",
     "text": [
      "Classification Report:\n",
      "              precision    recall  f1-score   support\n",
      "\n",
      "           0       1.00      0.00      0.00       440\n",
      "           1       0.62      1.00      0.77       728\n",
      "\n",
      "    accuracy                           0.62      1168\n",
      "   macro avg       0.81      0.50      0.38      1168\n",
      "weighted avg       0.77      0.62      0.48      1168\n",
      "\n"
     ]
    }
   ],
   "source": [
    "import matplotlib.pyplot as plt\n",
    "import seaborn as sns\n",
    "from sklearn.metrics import confusion_matrix, classification_report\n",
    "# Evaluate the model\n",
    "probabilities = model.predict(padded_test)\n",
    "predictions = (probabilities > 0.5).astype(int)\n",
    "predicted_labels = label_encoder.inverse_transform(predictions.flatten())\n",
    "true_labels = label_encoder.inverse_transform(labels_test)\n",
    "\n",
    "# Create confusion matrix\n",
    "cm = confusion_matrix(true_labels, predicted_labels)\n",
    "\n",
    "# Create classification report\n",
    "report = classification_report(true_labels, predicted_labels, zero_division=1)\n",
    "\n",
    "# Plot confusion matrix\n",
    "plt.figure(figsize=(8, 6))\n",
    "sns.heatmap(cm.T, annot=True, fmt='d', cbar=False)\n",
    "plt.title('Confusion Matrix')\n",
    "plt.xlabel('Predicted Labels')\n",
    "plt.ylabel('True Labels')\n",
    "plt.show()\n",
    "\n",
    "# Print classification report\n",
    "print('Classification Report:')\n",
    "print(report)"
   ]
  }
 ],
 "metadata": {
  "colab": {
   "provenance": []
  },
  "kernelspec": {
   "display_name": "Python 3 (ipykernel)",
   "language": "python",
   "name": "python3"
  },
  "language_info": {
   "codemirror_mode": {
    "name": "ipython",
    "version": 3
   },
   "file_extension": ".py",
   "mimetype": "text/x-python",
   "name": "python",
   "nbconvert_exporter": "python",
   "pygments_lexer": "ipython3",
   "version": "3.10.9"
  }
 },
 "nbformat": 4,
 "nbformat_minor": 1
}
