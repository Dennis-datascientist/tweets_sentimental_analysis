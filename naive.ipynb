{
 "cells": [
  {
   "cell_type": "code",
   "execution_count": 1,
   "metadata": {},
   "outputs": [],
   "source": [
    "#Import module\n",
    "import nltk\n",
    "import string\n",
    "import warnings\n",
    "import pandas as pd\n",
    "import seaborn as sns\n",
    "import matplotlib as plt\n",
    "import random\n"
   ]
  },
  {
   "cell_type": "code",
   "execution_count": 2,
   "metadata": {},
   "outputs": [],
   "source": [
    "\n",
    "pd.set_option(\"display.max_colwidth\",200)\n",
    "warnings.filterwarnings(\"ignore\",category=DeprecationWarning)\n",
    "%matplotlib inline\n",
    "\n"
   ]
  },
  {
   "cell_type": "code",
   "execution_count": 3,
   "metadata": {},
   "outputs": [
    {
     "data": {
      "text/html": [
       "<div>\n",
       "<style scoped>\n",
       "    .dataframe tbody tr th:only-of-type {\n",
       "        vertical-align: middle;\n",
       "    }\n",
       "\n",
       "    .dataframe tbody tr th {\n",
       "        vertical-align: top;\n",
       "    }\n",
       "\n",
       "    .dataframe thead th {\n",
       "        text-align: right;\n",
       "    }\n",
       "</style>\n",
       "<table border=\"1\" class=\"dataframe\">\n",
       "  <thead>\n",
       "    <tr style=\"text-align: right;\">\n",
       "      <th></th>\n",
       "      <th>Tweet</th>\n",
       "      <th>Label</th>\n",
       "    </tr>\n",
       "  </thead>\n",
       "  <tbody>\n",
       "    <tr>\n",
       "      <th>0</th>\n",
       "      <td>Why are #Connecticut Senators @ChrisMurphyCT and @SenBlumenthal silent? \\nWhy does @StateDept @SecBlinken pay Palestinians aid to murder Americans?\\n\\n#Israel #Jewish #Terrorism #Jihad #Iran #Elan...</td>\n",
       "      <td>1</td>\n",
       "    </tr>\n",
       "    <tr>\n",
       "      <th>1</th>\n",
       "      <td>Do not miss this new course from @richard_landes  #jihad #Israel #terrorism</td>\n",
       "      <td>1</td>\n",
       "    </tr>\n",
       "    <tr>\n",
       "      <th>2</th>\n",
       "      <td>ðŸ˜¢\\nWATCH: Family members eulogize Hillel and Yigal Yaniv, two Israeli brothers killed in a terrorist attack.\\n#Israel \\n#WarOnTerror \\n#Islam \\n#Jihad \\n#Palestinians \\n#Zionism \\n#Antisemitism...</td>\n",
       "      <td>1</td>\n",
       "    </tr>\n",
       "    <tr>\n",
       "      <th>3</th>\n",
       "      <td>Indian army encountered the terrorist #AqibMustaq who murdered #SanjaySharma. In his head IT WAS #JIHAD.\\nEntitled murderers should face consequences here on earth so they know \"until the fictiona...</td>\n",
       "      <td>1</td>\n",
       "    </tr>\n",
       "    <tr>\n",
       "      <th>4</th>\n",
       "      <td>2 Islamic State Commanders Killed by Taliban Forces in Afghanistan\\n#Afghanistan #Taliban #IslamicState #Terrorists \\nhttps://t.co/a90FKl3HvX</td>\n",
       "      <td>1</td>\n",
       "    </tr>\n",
       "  </tbody>\n",
       "</table>\n",
       "</div>"
      ],
      "text/plain": [
       "                                                                                                                                                                                                     Tweet  \\\n",
       "0  Why are #Connecticut Senators @ChrisMurphyCT and @SenBlumenthal silent? \\nWhy does @StateDept @SecBlinken pay Palestinians aid to murder Americans?\\n\\n#Israel #Jewish #Terrorism #Jihad #Iran #Elan...   \n",
       "1                                                                                                                              Do not miss this new course from @richard_landes  #jihad #Israel #terrorism   \n",
       "2  ðŸ˜¢\\nWATCH: Family members eulogize Hillel and Yigal Yaniv, two Israeli brothers killed in a terrorist attack.\\n#Israel \\n#WarOnTerror \\n#Islam \\n#Jihad \\n#Palestinians \\n#Zionism \\n#Antisemitism...   \n",
       "3  Indian army encountered the terrorist #AqibMustaq who murdered #SanjaySharma. In his head IT WAS #JIHAD.\\nEntitled murderers should face consequences here on earth so they know \"until the fictiona...   \n",
       "4                                                            2 Islamic State Commanders Killed by Taliban Forces in Afghanistan\\n#Afghanistan #Taliban #IslamicState #Terrorists \\nhttps://t.co/a90FKl3HvX   \n",
       "\n",
       "  Label  \n",
       "0     1  \n",
       "1     1  \n",
       "2     1  \n",
       "3     1  \n",
       "4     1  "
      ]
     },
     "execution_count": 3,
     "metadata": {},
     "output_type": "execute_result"
    }
   ],
   "source": [
    "import pandas as pd\n",
    "import re\n",
    "\n",
    "# Read the Excel file into a DataFrame\n",
    "data = pd.read_excel(r'C:\\Users\\user\\Downloads\\Tweets.xlsx')\n",
    "data.head()\n",
    "\n",
    "\n",
    "\n"
   ]
  },
  {
   "cell_type": "code",
   "execution_count": 4,
   "metadata": {},
   "outputs": [],
   "source": [
    "import re\n",
    "# removing the pattern\n",
    "def remove_pattern(input_text,pattern):\n",
    "    r= re.findall(pattern, input_text)\n",
    "    for i in r:\n",
    "        input_text = re.sub(i, '', input_text)\n",
    "    return input_text"
   ]
  },
  {
   "cell_type": "code",
   "execution_count": 6,
   "metadata": {},
   "outputs": [
    {
     "data": {
      "text/html": [
       "<div>\n",
       "<style scoped>\n",
       "    .dataframe tbody tr th:only-of-type {\n",
       "        vertical-align: middle;\n",
       "    }\n",
       "\n",
       "    .dataframe tbody tr th {\n",
       "        vertical-align: top;\n",
       "    }\n",
       "\n",
       "    .dataframe thead th {\n",
       "        text-align: right;\n",
       "    }\n",
       "</style>\n",
       "<table border=\"1\" class=\"dataframe\">\n",
       "  <thead>\n",
       "    <tr style=\"text-align: right;\">\n",
       "      <th></th>\n",
       "      <th>Tweet</th>\n",
       "      <th>Label</th>\n",
       "      <th>tidy_tweet</th>\n",
       "    </tr>\n",
       "  </thead>\n",
       "  <tbody>\n",
       "    <tr>\n",
       "      <th>0</th>\n",
       "      <td>Why are #Connecticut Senators @ChrisMurphyCT and @SenBlumenthal silent? \\nWhy does @StateDept @SecBlinken pay Palestinians aid to murder Americans?\\n\\n#Israel #Jewish #Terrorism #Jihad #Iran #Elan...</td>\n",
       "      <td>1</td>\n",
       "      <td>Why are #Connecticut Senators  and  silent? \\nWhy does   pay Palestinians aid to murder Americans?\\n\\n#Israel #Jewish #Terrorism #Jihad #Iran #ElanGaneles\\n</td>\n",
       "    </tr>\n",
       "    <tr>\n",
       "      <th>1</th>\n",
       "      <td>Do not miss this new course from @richard_landes  #jihad #Israel #terrorism</td>\n",
       "      <td>1</td>\n",
       "      <td>Do not miss this new course from   #jihad #Israel #terrorism</td>\n",
       "    </tr>\n",
       "    <tr>\n",
       "      <th>2</th>\n",
       "      <td>ðŸ˜¢\\nWATCH: Family members eulogize Hillel and Yigal Yaniv, two Israeli brothers killed in a terrorist attack.\\n#Israel \\n#WarOnTerror \\n#Islam \\n#Jihad \\n#Palestinians \\n#Zionism \\n#Antisemitism...</td>\n",
       "      <td>1</td>\n",
       "      <td>ðŸ˜¢\\nWATCH: Family members eulogize Hillel and Yigal Yaniv, two Israeli brothers killed in a terrorist attack.\\n#Israel \\n#WarOnTerror \\n#Islam \\n#Jihad \\n#Palestinians \\n#Zionism \\n#Antisemitism...</td>\n",
       "    </tr>\n",
       "    <tr>\n",
       "      <th>3</th>\n",
       "      <td>Indian army encountered the terrorist #AqibMustaq who murdered #SanjaySharma. In his head IT WAS #JIHAD.\\nEntitled murderers should face consequences here on earth so they know \"until the fictiona...</td>\n",
       "      <td>1</td>\n",
       "      <td>Indian army encountered the terrorist #AqibMustaq who murdered #SanjaySharma. In his head IT WAS #JIHAD.\\nEntitled murderers should face consequences here on earth so they know \"until the fictiona...</td>\n",
       "    </tr>\n",
       "    <tr>\n",
       "      <th>4</th>\n",
       "      <td>2 Islamic State Commanders Killed by Taliban Forces in Afghanistan\\n#Afghanistan #Taliban #IslamicState #Terrorists \\nhttps://t.co/a90FKl3HvX</td>\n",
       "      <td>1</td>\n",
       "      <td>2 Islamic State Commanders Killed by Taliban Forces in Afghanistan\\n#Afghanistan #Taliban #IslamicState #Terrorists \\nhttps://t.co/a90FKl3HvX</td>\n",
       "    </tr>\n",
       "  </tbody>\n",
       "</table>\n",
       "</div>"
      ],
      "text/plain": [
       "                                                                                                                                                                                                     Tweet  \\\n",
       "0  Why are #Connecticut Senators @ChrisMurphyCT and @SenBlumenthal silent? \\nWhy does @StateDept @SecBlinken pay Palestinians aid to murder Americans?\\n\\n#Israel #Jewish #Terrorism #Jihad #Iran #Elan...   \n",
       "1                                                                                                                              Do not miss this new course from @richard_landes  #jihad #Israel #terrorism   \n",
       "2  ðŸ˜¢\\nWATCH: Family members eulogize Hillel and Yigal Yaniv, two Israeli brothers killed in a terrorist attack.\\n#Israel \\n#WarOnTerror \\n#Islam \\n#Jihad \\n#Palestinians \\n#Zionism \\n#Antisemitism...   \n",
       "3  Indian army encountered the terrorist #AqibMustaq who murdered #SanjaySharma. In his head IT WAS #JIHAD.\\nEntitled murderers should face consequences here on earth so they know \"until the fictiona...   \n",
       "4                                                            2 Islamic State Commanders Killed by Taliban Forces in Afghanistan\\n#Afghanistan #Taliban #IslamicState #Terrorists \\nhttps://t.co/a90FKl3HvX   \n",
       "\n",
       "  Label  \\\n",
       "0     1   \n",
       "1     1   \n",
       "2     1   \n",
       "3     1   \n",
       "4     1   \n",
       "\n",
       "                                                                                                                                                                                                tidy_tweet  \n",
       "0                                        Why are #Connecticut Senators  and  silent? \\nWhy does   pay Palestinians aid to murder Americans?\\n\\n#Israel #Jewish #Terrorism #Jihad #Iran #ElanGaneles\\n       \n",
       "1                                                                                                                                             Do not miss this new course from   #jihad #Israel #terrorism  \n",
       "2  ðŸ˜¢\\nWATCH: Family members eulogize Hillel and Yigal Yaniv, two Israeli brothers killed in a terrorist attack.\\n#Israel \\n#WarOnTerror \\n#Islam \\n#Jihad \\n#Palestinians \\n#Zionism \\n#Antisemitism...  \n",
       "3  Indian army encountered the terrorist #AqibMustaq who murdered #SanjaySharma. In his head IT WAS #JIHAD.\\nEntitled murderers should face consequences here on earth so they know \"until the fictiona...  \n",
       "4                                                            2 Islamic State Commanders Killed by Taliban Forces in Afghanistan\\n#Afghanistan #Taliban #IslamicState #Terrorists \\nhttps://t.co/a90FKl3HvX  "
      ]
     },
     "execution_count": 6,
     "metadata": {},
     "output_type": "execute_result"
    }
   ],
   "source": [
    "import numpy as np\n",
    "data['tidy_tweet'] = np.vectorize(remove_pattern)(data['Tweet'],\"@[\\w]*\") \n",
    "data['tidy_tweet'] = data['tidy_tweet'].str.replace(\"[^a-zA-Z#]\",\" \")\n",
    "data.head()\n"
   ]
  },
  {
   "cell_type": "code",
   "execution_count": 7,
   "metadata": {},
   "outputs": [
    {
     "data": {
      "text/html": [
       "<div>\n",
       "<style scoped>\n",
       "    .dataframe tbody tr th:only-of-type {\n",
       "        vertical-align: middle;\n",
       "    }\n",
       "\n",
       "    .dataframe tbody tr th {\n",
       "        vertical-align: top;\n",
       "    }\n",
       "\n",
       "    .dataframe thead th {\n",
       "        text-align: right;\n",
       "    }\n",
       "</style>\n",
       "<table border=\"1\" class=\"dataframe\">\n",
       "  <thead>\n",
       "    <tr style=\"text-align: right;\">\n",
       "      <th></th>\n",
       "      <th>Tweet</th>\n",
       "      <th>Label</th>\n",
       "      <th>tidy_tweet</th>\n",
       "    </tr>\n",
       "  </thead>\n",
       "  <tbody>\n",
       "    <tr>\n",
       "      <th>0</th>\n",
       "      <td>Why are #Connecticut Senators @ChrisMurphyCT and @SenBlumenthal silent? \\nWhy does @StateDept @SecBlinken pay Palestinians aid to murder Americans?\\n\\n#Israel #Jewish #Terrorism #Jihad #Iran #Elan...</td>\n",
       "      <td>1</td>\n",
       "      <td>#Connecticut Senators silent? does Palestinians murder Americans? #Israel #Jewish #Terrorism #Jihad #Iran #ElanGaneles</td>\n",
       "    </tr>\n",
       "    <tr>\n",
       "      <th>1</th>\n",
       "      <td>Do not miss this new course from @richard_landes  #jihad #Israel #terrorism</td>\n",
       "      <td>1</td>\n",
       "      <td>miss this course from #jihad #Israel #terrorism</td>\n",
       "    </tr>\n",
       "    <tr>\n",
       "      <th>2</th>\n",
       "      <td>ðŸ˜¢\\nWATCH: Family members eulogize Hillel and Yigal Yaniv, two Israeli brothers killed in a terrorist attack.\\n#Israel \\n#WarOnTerror \\n#Islam \\n#Jihad \\n#Palestinians \\n#Zionism \\n#Antisemitism...</td>\n",
       "      <td>1</td>\n",
       "      <td>ðŸ˜¢ WATCH: Family members eulogize Hillel Yigal Yaniv, Israeli brothers killed terrorist attack. #Israel #WarOnTerror #Islam #Jihad #Palestinians #Zionism #Antisemitism https://t.co/Cgrbgz2KgA</td>\n",
       "    </tr>\n",
       "    <tr>\n",
       "      <th>3</th>\n",
       "      <td>Indian army encountered the terrorist #AqibMustaq who murdered #SanjaySharma. In his head IT WAS #JIHAD.\\nEntitled murderers should face consequences here on earth so they know \"until the fictiona...</td>\n",
       "      <td>1</td>\n",
       "      <td>Indian army encountered terrorist #AqibMustaq murdered #SanjaySharma. head #JIHAD. Entitled murderers should face consequences here earth they know \"until fictional hereafter\" there only pain! Sam...</td>\n",
       "    </tr>\n",
       "    <tr>\n",
       "      <th>4</th>\n",
       "      <td>2 Islamic State Commanders Killed by Taliban Forces in Afghanistan\\n#Afghanistan #Taliban #IslamicState #Terrorists \\nhttps://t.co/a90FKl3HvX</td>\n",
       "      <td>1</td>\n",
       "      <td>Islamic State Commanders Killed Taliban Forces Afghanistan #Afghanistan #Taliban #IslamicState #Terrorists https://t.co/a90FKl3HvX</td>\n",
       "    </tr>\n",
       "  </tbody>\n",
       "</table>\n",
       "</div>"
      ],
      "text/plain": [
       "                                                                                                                                                                                                     Tweet  \\\n",
       "0  Why are #Connecticut Senators @ChrisMurphyCT and @SenBlumenthal silent? \\nWhy does @StateDept @SecBlinken pay Palestinians aid to murder Americans?\\n\\n#Israel #Jewish #Terrorism #Jihad #Iran #Elan...   \n",
       "1                                                                                                                              Do not miss this new course from @richard_landes  #jihad #Israel #terrorism   \n",
       "2  ðŸ˜¢\\nWATCH: Family members eulogize Hillel and Yigal Yaniv, two Israeli brothers killed in a terrorist attack.\\n#Israel \\n#WarOnTerror \\n#Islam \\n#Jihad \\n#Palestinians \\n#Zionism \\n#Antisemitism...   \n",
       "3  Indian army encountered the terrorist #AqibMustaq who murdered #SanjaySharma. In his head IT WAS #JIHAD.\\nEntitled murderers should face consequences here on earth so they know \"until the fictiona...   \n",
       "4                                                            2 Islamic State Commanders Killed by Taliban Forces in Afghanistan\\n#Afghanistan #Taliban #IslamicState #Terrorists \\nhttps://t.co/a90FKl3HvX   \n",
       "\n",
       "  Label  \\\n",
       "0     1   \n",
       "1     1   \n",
       "2     1   \n",
       "3     1   \n",
       "4     1   \n",
       "\n",
       "                                                                                                                                                                                                tidy_tweet  \n",
       "0                                                                                   #Connecticut Senators silent? does Palestinians murder Americans? #Israel #Jewish #Terrorism #Jihad #Iran #ElanGaneles  \n",
       "1                                                                                                                                                          miss this course from #jihad #Israel #terrorism  \n",
       "2        ðŸ˜¢ WATCH: Family members eulogize Hillel Yigal Yaniv, Israeli brothers killed terrorist attack. #Israel #WarOnTerror #Islam #Jihad #Palestinians #Zionism #Antisemitism https://t.co/Cgrbgz2KgA  \n",
       "3  Indian army encountered terrorist #AqibMustaq murdered #SanjaySharma. head #JIHAD. Entitled murderers should face consequences here earth they know \"until fictional hereafter\" there only pain! Sam...  \n",
       "4                                                                       Islamic State Commanders Killed Taliban Forces Afghanistan #Afghanistan #Taliban #IslamicState #Terrorists https://t.co/a90FKl3HvX  "
      ]
     },
     "execution_count": 7,
     "metadata": {},
     "output_type": "execute_result"
    }
   ],
   "source": [
    "#Removing twitter unwanted symbols \n",
    "data['tidy_tweet'] = data['tidy_tweet'].apply(lambda x: ' '.join([w for w in x.split() if len(w)>3])) #removing words whose length is less than 3\n",
    "data.head()\n"
   ]
  },
  {
   "cell_type": "code",
   "execution_count": 8,
   "metadata": {},
   "outputs": [
    {
     "data": {
      "text/plain": [
       "0                                                                       [#Connecticut, Senators, silent?, does, Palestinians, murder, Americans?, #Israel, #Jewish, #Terrorism, #Jihad, #Iran, #ElanGaneles]\n",
       "1                                                                                                                                                    [miss, this, course, from, #jihad, #Israel, #terrorism]\n",
       "2    [ðŸ˜¢, WATCH:, Family, members, eulogize, Hillel, Yigal, Yaniv,, Israeli, brothers, killed, terrorist, attack., #Israel, #WarOnTerror, #Islam, #Jihad, #Palestinians, #Zionism, #Antisemitism, https...\n",
       "3    [Indian, army, encountered, terrorist, #AqibMustaq, murdered, #SanjaySharma., head, #JIHAD., Entitled, murderers, should, face, consequences, here, earth, they, know, \"until, fictional, hereafter\"...\n",
       "4                                                            [Islamic, State, Commanders, Killed, Taliban, Forces, Afghanistan, #Afghanistan, #Taliban, #IslamicState, #Terrorists, https://t.co/a90FKl3HvX]\n",
       "Name: tidy_tweet, dtype: object"
      ]
     },
     "execution_count": 8,
     "metadata": {},
     "output_type": "execute_result"
    }
   ],
   "source": [
    "#it will split all words by whitespace\n",
    "tokenized_tweet = data['tidy_tweet'].apply(lambda x:x.split()) #it will split all words by whitespace\n",
    "tokenized_tweet.head()\n"
   ]
  },
  {
   "cell_type": "code",
   "execution_count": 9,
   "metadata": {},
   "outputs": [],
   "source": [
    "from nltk.stem.porter import *\n",
    "stemmer = PorterStemmer()\n",
    "tokenized_tweet = tokenized_tweet.apply(lambda x: [stemmer.stem(i) for i in x]) #it will stemmatized all words in t\n",
    "    \n"
   ]
  },
  {
   "cell_type": "code",
   "execution_count": 44,
   "metadata": {},
   "outputs": [
    {
     "data": {
      "text/html": [
       "<div>\n",
       "<style scoped>\n",
       "    .dataframe tbody tr th:only-of-type {\n",
       "        vertical-align: middle;\n",
       "    }\n",
       "\n",
       "    .dataframe tbody tr th {\n",
       "        vertical-align: top;\n",
       "    }\n",
       "\n",
       "    .dataframe thead th {\n",
       "        text-align: right;\n",
       "    }\n",
       "</style>\n",
       "<table border=\"1\" class=\"dataframe\">\n",
       "  <thead>\n",
       "    <tr style=\"text-align: right;\">\n",
       "      <th></th>\n",
       "      <th>Tweet</th>\n",
       "      <th>Label</th>\n",
       "      <th>tidy_tweet</th>\n",
       "    </tr>\n",
       "  </thead>\n",
       "  <tbody>\n",
       "    <tr>\n",
       "      <th>0</th>\n",
       "      <td>Why are #Connecticut Senators @ChrisMurphyCT and @SenBlumenthal silent? \\nWhy does @StateDept @SecBlinken pay Palestinians aid to murder Americans?\\n\\n#Israel #Jewish #Terrorism #Jihad #Iran #Elan...</td>\n",
       "      <td>1</td>\n",
       "      <td>#   c   o   n   n   e   c   t   i   c   u   t       s   e   n   a   t       s   i   l   e   n   t   ?       d   o   e       p   a   l   e   s   t   i   n   i   a   n       m   u   r   d   e   r   ...</td>\n",
       "    </tr>\n",
       "    <tr>\n",
       "      <th>1</th>\n",
       "      <td>Do not miss this new course from @richard_landes  #jihad #Israel #terrorism</td>\n",
       "      <td>1</td>\n",
       "      <td>m   i   s   s       t   h   i       c   o   u   r   s       f   r   o   m       #   j   i   h   a   d       #   i   s   r   a   e   l       #   t   e   r   r   o   r</td>\n",
       "    </tr>\n",
       "    <tr>\n",
       "      <th>2</th>\n",
       "      <td>ðŸ˜¢\\nWATCH: Family members eulogize Hillel and Yigal Yaniv, two Israeli brothers killed in a terrorist attack.\\n#Israel \\n#WarOnTerror \\n#Islam \\n#Jihad \\n#Palestinians \\n#Zionism \\n#Antisemitism...</td>\n",
       "      <td>1</td>\n",
       "      <td>ð   ÿ   ˜   ¢       w   a   t   c   h   :       f   a   m   i   l   i       m   e   m   b   e   r       e   u   l   o   g       h   i   l   l   e   l       y   i   g   a   l       y   a   n   i   ...</td>\n",
       "    </tr>\n",
       "    <tr>\n",
       "      <th>3</th>\n",
       "      <td>Indian army encountered the terrorist #AqibMustaq who murdered #SanjaySharma. In his head IT WAS #JIHAD.\\nEntitled murderers should face consequences here on earth so they know \"until the fictiona...</td>\n",
       "      <td>1</td>\n",
       "      <td>i   n   d   i   a   n       a   r   m   i       e   n   c   o   u   n   t       t   e   r   r   o   r   i   s   t       #   a   q   i   b   m   u   s   t   a   q       m   u   r   d   e   r       ...</td>\n",
       "    </tr>\n",
       "    <tr>\n",
       "      <th>4</th>\n",
       "      <td>2 Islamic State Commanders Killed by Taliban Forces in Afghanistan\\n#Afghanistan #Taliban #IslamicState #Terrorists \\nhttps://t.co/a90FKl3HvX</td>\n",
       "      <td>1</td>\n",
       "      <td>i   s   l   a   m       s   t   a   t   e       c   o   m   m   a   n   d       k   i   l   l       t   a   l   i   b   a   n       f   o   r   c       a   f   g   h   a   n   i   s   t   a   n   ...</td>\n",
       "    </tr>\n",
       "  </tbody>\n",
       "</table>\n",
       "</div>"
      ],
      "text/plain": [
       "                                                                                                                                                                                                     Tweet  \\\n",
       "0  Why are #Connecticut Senators @ChrisMurphyCT and @SenBlumenthal silent? \\nWhy does @StateDept @SecBlinken pay Palestinians aid to murder Americans?\\n\\n#Israel #Jewish #Terrorism #Jihad #Iran #Elan...   \n",
       "1                                                                                                                              Do not miss this new course from @richard_landes  #jihad #Israel #terrorism   \n",
       "2  ðŸ˜¢\\nWATCH: Family members eulogize Hillel and Yigal Yaniv, two Israeli brothers killed in a terrorist attack.\\n#Israel \\n#WarOnTerror \\n#Islam \\n#Jihad \\n#Palestinians \\n#Zionism \\n#Antisemitism...   \n",
       "3  Indian army encountered the terrorist #AqibMustaq who murdered #SanjaySharma. In his head IT WAS #JIHAD.\\nEntitled murderers should face consequences here on earth so they know \"until the fictiona...   \n",
       "4                                                            2 Islamic State Commanders Killed by Taliban Forces in Afghanistan\\n#Afghanistan #Taliban #IslamicState #Terrorists \\nhttps://t.co/a90FKl3HvX   \n",
       "\n",
       "  Label  \\\n",
       "0     1   \n",
       "1     1   \n",
       "2     1   \n",
       "3     1   \n",
       "4     1   \n",
       "\n",
       "                                                                                                                                                                                                tidy_tweet  \n",
       "0  #   c   o   n   n   e   c   t   i   c   u   t       s   e   n   a   t       s   i   l   e   n   t   ?       d   o   e       p   a   l   e   s   t   i   n   i   a   n       m   u   r   d   e   r   ...  \n",
       "1                                    m   i   s   s       t   h   i       c   o   u   r   s       f   r   o   m       #   j   i   h   a   d       #   i   s   r   a   e   l       #   t   e   r   r   o   r  \n",
       "2  ð   ÿ   ˜   ¢       w   a   t   c   h   :       f   a   m   i   l   i       m   e   m   b   e   r       e   u   l   o   g       h   i   l   l   e   l       y   i   g   a   l       y   a   n   i   ...  \n",
       "3  i   n   d   i   a   n       a   r   m   i       e   n   c   o   u   n   t       t   e   r   r   o   r   i   s   t       #   a   q   i   b   m   u   s   t   a   q       m   u   r   d   e   r       ...  \n",
       "4  i   s   l   a   m       s   t   a   t   e       c   o   m   m   a   n   d       k   i   l   l       t   a   l   i   b   a   n       f   o   r   c       a   f   g   h   a   n   i   s   t   a   n   ...  "
      ]
     },
     "execution_count": 44,
     "metadata": {},
     "output_type": "execute_result"
    }
   ],
   "source": [
    "#now let's combine these tokens back\n",
    "\n",
    "for i in range(len(tokenized_tweet)):\n",
    "    tokenized_tweet[i] = ' '.join(tokenized_tweet[i]) #concat all words into one sentence\n",
    "data['tidy_tweet'] = tokenized_tweet\n",
    "\n",
    "data.head()\n"
   ]
  },
  {
   "cell_type": "code",
   "execution_count": 11,
   "metadata": {},
   "outputs": [],
   "source": [
    "#collect hashtags\n",
    "\n",
    "def hashtag_extract(x):\n",
    "    hashtags=[]\n",
    "    for i in x: #loop over words contain in tweet\n",
    "        ht = re.findall(r\"#(\\w+)\",i)\n",
    "        hashtags.append(ht)\n",
    "    return hashtags"
   ]
  },
  {
   "cell_type": "code",
   "execution_count": 40,
   "metadata": {},
   "outputs": [],
   "source": [
    "#extracting hashtags from positive tweets\n",
    "ht_positive = hashtag_extract(data['tidy_tweet'][data['Label']==1])\n",
    "#extracting hashtags from negative tweets\n",
    "ht_negative=hashtag_extract(data['tidy_tweet'][data['Label']==0])\n",
    "ht_positive = sum(ht_positive,[])\n",
    "ht_negative = sum(ht_negative,[])\n",
    "# Convert the list to a pandas Series\n",
    "ht_negative_series = pd.Series(ht_negative)\n"
   ]
  },
  {
   "cell_type": "code",
   "execution_count": 41,
   "metadata": {},
   "outputs": [
    {
     "data": {
      "image/png": "[encoded data removed]",
      "text/plain": [
       "<Figure size 2000x500 with 1 Axes>"
      ]
     },
     "metadata": {},
     "output_type": "display_data"
    }
   ],
   "source": [
    "#positive tweets\n",
    "\n",
    "positive_tweets = nltk.FreqDist(ht_positive)\n",
    "df1 = pd.DataFrame({'Hashtag': list(positive_tweets.keys()),'Count':list(positive_tweets.values())})\n",
    "import matplotlib.pyplot as plt\n",
    "\n",
    "#selecting top 20 most frequent hashtags\n",
    "df1 = df1.nlargest(columns=\"Count\",n=20)\n",
    "plt.figure(figsize=(20,5))\n",
    "ax = sns.barplot(data=df1, x=\"Hashtag\", y=\"Count\")\n",
    "ax.set(ylabel = \"Count\")\n",
    "plt.show()"
   ]
  },
  {
   "cell_type": "code",
   "execution_count": 42,
   "metadata": {},
   "outputs": [
    {
     "data": {
      "image/png": "[encoded data removed]",
      "text/plain": [
       "<Figure size 2000x500 with 1 Axes>"
      ]
     },
     "metadata": {},
     "output_type": "display_data"
    }
   ],
   "source": [
    "#negative tweets\n",
    "\n",
    "negative_tweets = nltk.FreqDist(ht_negative)\n",
    "df2 = pd.DataFrame({'Hashtag': list(negative_tweets.keys()),'Count': list(negative_tweets.values())}) #count number of occurrence of particular word\n",
    "\n",
    "#selecting top 20 frequent  hashtags\n",
    "\n",
    "df2 = df2.nlargest(columns = \"Count\",n=20)\n",
    "plt.figure(figsize=(20,5))\n",
    "ax = sns.barplot(data=df2, x=\"Hashtag\",y=\"Count\")\n",
    "plt.show()"
   ]
  },
  {
   "cell_type": "code",
   "execution_count": 20,
   "metadata": {},
   "outputs": [],
   "source": [
    "#pip install gensim\n",
    "from sklearn.feature_extraction.text import TfidfVectorizer, CountVectorizer \n",
    "import gensim "
   ]
  },
  {
   "cell_type": "code",
   "execution_count": 21,
   "metadata": {},
   "outputs": [
    {
     "data": {
      "text/plain": [
       "(5840, 1000)"
      ]
     },
     "execution_count": 21,
     "metadata": {},
     "output_type": "execute_result"
    }
   ],
   "source": [
    "#Each row in matrix M contains the frequency of tokens(words) in the document D(i)\n",
    "\n",
    "bow_vectorizer = CountVectorizer(max_df=0.90 ,min_df=2 , max_features=1000,stop_words='english')\n",
    "bow = bow_vectorizer.fit_transform(data['tidy_tweet']) # tokenize and build vocabulary\n",
    "bow.shape"
   ]
  },
  {
   "cell_type": "code",
   "execution_count": 53,
   "metadata": {},
   "outputs": [],
   "source": [
    "#TF-IDF\n",
    "#TF = (number of times term appear in a document)/(Number of terms in dcoument)\n",
    "#IDF = log(N/n)-N is nummber of documents and n is number of documents a term has appeared in.\n"
   ]
  },
  {
   "cell_type": "code",
   "execution_count": 48,
   "metadata": {},
   "outputs": [],
   "source": [
    "#replace all null values by 0\n",
    "data=data.fillna(0) \n",
    "from sklearn.model_selection import train_test_split\n",
    "X_train, X_test, y_train, y_test = train_test_split(bow, data['Label'],\n",
    "                                                    test_size=0.2, random_state=69)\n"
   ]
  },
  {
   "cell_type": "code",
   "execution_count": 52,
   "metadata": {},
   "outputs": [
    {
     "name": "stdout",
     "output_type": "stream",
     "text": [
      "X_train_shape :  (4672, 1000)\n",
      "X_test_shape :  (1168, 1000)\n",
      "y_train_shape :  (4672,)\n",
      "y_test_shape :  (1168,)\n"
     ]
    }
   ],
   "source": [
    "print(\"X_train_shape : \",X_train.shape)\n",
    "print(\"X_test_shape : \",X_test.shape)\n",
    "print(\"y_train_shape : \",y_train.shape)\n",
    "print(\"y_test_shape : \",y_test.shape)\n",
    "\n",
    "\n"
   ]
  },
  {
   "cell_type": "code",
   "execution_count": null,
   "metadata": {},
   "outputs": [],
   "source": [
    "from sklearn.preprocessing import LabelEncoder\n",
    "\n",
    "label_encoder = LabelEncoder()\n",
    "y_train = y_train.astype(str)  # Convert label column to string type\n",
    "y_train_encoded = label_encoder.fit_transform(y_train)\n"
   ]
  },
  {
   "cell_type": "code",
   "execution_count": 54,
   "metadata": {},
   "outputs": [],
   "source": [
    "#Multinomial Naive Bayes Classifier\n",
    "from sklearn.naive_bayes import MultinomialNB\n",
    "\n",
    "\n",
    "model_naive = MultinomialNB().fit(X_train, y_train) \n",
    "predicted_naive = model_naive.predict(X_test)\n"
   ]
  },
  {
   "cell_type": "code",
   "execution_count": 62,
   "metadata": {},
   "outputs": [
    {
     "data": {
      "image/png": "[encoded data removed]",
      "text/plain": [
       "<Figure size 640x480 with 1 Axes>"
      ]
     },
     "metadata": {},
     "output_type": "display_data"
    }
   ],
   "source": [
    "from sklearn.preprocessing import LabelEncoder\n",
    "\n",
    "label_encoder = LabelEncoder()\n",
    "y_test_encoded = label_encoder.fit_transform(y_test)\n",
    "predicted_naive_encoded = label_encoder.transform(predicted_naive)\n",
    "\n",
    "\n",
    "# Compute confusion matrix\n",
    "from sklearn.metrics import confusion_matrix\n",
    "\n",
    "mat = confusion_matrix(y_test_encoded, predicted_naive_encoded)\n",
    "\n",
    "#mat = confusion_matrix(y_test, predicted_naive)\n",
    "sns.heatmap(mat.T, annot=True, fmt='d', cbar=False)\n",
    "\n",
    "plt.title('Confusion Matrix for Naive Bayes')\n",
    "plt.xlabel('true label')\n",
    "plt.ylabel('predicted label')\n",
    "plt.savefig(\"confusion_matrix.png\")\n",
    "plt.show()\n",
    "\n"
   ]
  },
  {
   "cell_type": "code",
   "execution_count": 65,
   "metadata": {},
   "outputs": [
    {
     "name": "stdout",
     "output_type": "stream",
     "text": [
      "              precision    recall  f1-score   support\n",
      "\n",
      "           0       0.97      1.00      0.98       432\n",
      "           1       1.00      0.98      0.99       736\n",
      "\n",
      "    accuracy                           0.99      1168\n",
      "   macro avg       0.98      0.99      0.99      1168\n",
      "weighted avg       0.99      0.99      0.99      1168\n",
      "\n"
     ]
    }
   ],
   "source": [
    "from sklearn.metrics import classification_report\n",
    "\n",
    "report = classification_report(y_test_encoded, predicted_naive_encoded)\n",
    "print(report)\n"
   ]
  }
 ],
 "metadata": {
  "kernelspec": {
   "display_name": "Python 3 (ipykernel)",
   "language": "python",
   "name": "python3"
  },
  "language_info": {
   "codemirror_mode": {
    "name": "ipython",
    "version": 3
   },
   "file_extension": ".py",
   "mimetype": "text/x-python",
   "name": "python",
   "nbconvert_exporter": "python",
   "pygments_lexer": "ipython3",
   "version": "3.11.3"
  }
 },
 "nbformat": 4,
 "nbformat_minor": 2
}
